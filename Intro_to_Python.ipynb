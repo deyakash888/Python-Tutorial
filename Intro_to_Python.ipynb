{
  "nbformat": 4,
  "nbformat_minor": 0,
  "metadata": {
    "colab": {
      "provenance": [],
      "authorship_tag": "ABX9TyPicg/2LEveuQw3M6iUBD5H",
      "include_colab_link": true
    },
    "kernelspec": {
      "name": "python3",
      "display_name": "Python 3"
    },
    "language_info": {
      "name": "python"
    }
  },
  "cells": [
    {
      "cell_type": "markdown",
      "metadata": {
        "id": "view-in-github",
        "colab_type": "text"
      },
      "source": [
        "<a href=\"https://colab.research.google.com/github/deyakash888/Python-Tutorial/blob/main/Intro_to_Python.ipynb\" target=\"_parent\"><img src=\"https://colab.research.google.com/assets/colab-badge.svg\" alt=\"Open In Colab\"/></a>"
      ]
    },
    {
      "cell_type": "code",
      "execution_count": null,
      "metadata": {
        "colab": {
          "base_uri": "https://localhost:8080/"
        },
        "id": "8Md4lFz1c4tb",
        "outputId": "faaf86a5-87e8-4ceb-cdf9-198c82d1475a"
      },
      "outputs": [
        {
          "output_type": "stream",
          "name": "stdout",
          "text": [
            "I will learn AI & ML soon in details.\n"
          ]
        }
      ],
      "source": [
        "print (\"I will learn AI & ML soon in details.\")"
      ]
    },
    {
      "cell_type": "code",
      "source": [
        "#for multiline strings\n",
        "print(\"\"\"My favorite drink\n",
        " is Earl Grey tea.\"\"\")"
      ],
      "metadata": {
        "id": "BbZH_cm1fI3K",
        "outputId": "77d3f2c3-fa1a-49d4-b159-754cdcbf2155",
        "colab": {
          "base_uri": "https://localhost:8080/"
        }
      },
      "execution_count": null,
      "outputs": [
        {
          "output_type": "stream",
          "name": "stdout",
          "text": [
            "My favorite drink\n",
            " is Earl Grey tea.\n"
          ]
        }
      ]
    },
    {
      "cell_type": "code",
      "source": [
        "type(\"\"\"\n",
        "Numbers, text, and truth,\n",
        "Strings, ints, and floats in our code,\n",
        "Data shapes our path\n",
        "\"\"\")"
      ],
      "metadata": {
        "id": "9zTW8l-QfcT4",
        "outputId": "ca6f765d-00f7-42ea-bbd3-6b78ce9624a2",
        "colab": {
          "base_uri": "https://localhost:8080/"
        }
      },
      "execution_count": null,
      "outputs": [
        {
          "output_type": "execute_result",
          "data": {
            "text/plain": [
              "str"
            ]
          },
          "metadata": {},
          "execution_count": 10
        }
      ]
    },
    {
      "cell_type": "code",
      "source": [
        "type(5.5)"
      ],
      "metadata": {
        "id": "ngNDpYdUjJxL",
        "outputId": "40b231e0-b9b4-4d84-8834-58570abebd46",
        "colab": {
          "base_uri": "https://localhost:8080/"
        }
      },
      "execution_count": null,
      "outputs": [
        {
          "output_type": "execute_result",
          "data": {
            "text/plain": [
              "float"
            ]
          },
          "metadata": {},
          "execution_count": 13
        }
      ]
    },
    {
      "cell_type": "code",
      "source": [
        "## This is a Python program which converts the value of feet into meter\n",
        "\n",
        "feet = int(input(\"Enter the length in feet:\"))\n",
        "meter = feet / 3.281; #convert feet to meter\n",
        "\n",
        "print(\"The length in meter is\",round(meter,2))\n"
      ],
      "metadata": {
        "id": "pkbh8I4ektMo",
        "outputId": "118afeeb-1c45-446d-edd8-53c04f16f14a",
        "colab": {
          "base_uri": "https://localhost:8080/"
        }
      },
      "execution_count": null,
      "outputs": [
        {
          "output_type": "stream",
          "name": "stdout",
          "text": [
            "Enter the length in feet:6\n",
            "The length in meter is 1.83\n"
          ]
        }
      ]
    },
    {
      "cell_type": "code",
      "source": [
        "#format strings\n",
        "print(f\"The temperature 75F in degrees celsius is {(75 - 32) * 5 / 9}C\")"
      ],
      "metadata": {
        "colab": {
          "base_uri": "https://localhost:8080/"
        },
        "id": "2oZY41tJnt1k",
        "outputId": "6790bf3e-84bb-4a30-a750-a4849ea53013"
      },
      "execution_count": 17,
      "outputs": [
        {
          "output_type": "stream",
          "name": "stdout",
          "text": [
            "The temperature 75F in degrees celsius is 23.88888888888889C\n"
          ]
        }
      ]
    },
    {
      "cell_type": "code",
      "source": [
        "print(f\"Isabel is {28/7} dog years old.\")"
      ],
      "metadata": {
        "colab": {
          "base_uri": "https://localhost:8080/"
        },
        "id": "xjqJMQgFpDLA",
        "outputId": "d8cb4ca1-9b70-4649-dcad-f698dc90b63f"
      },
      "execution_count": 18,
      "outputs": [
        {
          "output_type": "stream",
          "name": "stdout",
          "text": [
            "Isabel is 4.0 dog years old.\n"
          ]
        }
      ]
    },
    {
      "cell_type": "code",
      "source": [
        "print(f\"Isabel is {28/7:.3f} dog years old.\")"
      ],
      "metadata": {
        "colab": {
          "base_uri": "https://localhost:8080/"
        },
        "id": "XV7LN5NzpGD2",
        "outputId": "51efc6f2-fa88-483b-dc20-c2418cd26b77"
      },
      "execution_count": 20,
      "outputs": [
        {
          "output_type": "stream",
          "name": "stdout",
          "text": [
            "Isabel is 4.000 dog years old.\n"
          ]
        }
      ]
    },
    {
      "cell_type": "code",
      "source": [
        "#multiline format strings with floating number decimal places\n",
        "print(f\"\"\"\n",
        "    Most countries use the metric system for recipe measurement,\n",
        "    but American bakers use a different system. For example, they use\n",
        "    fluid ounces to measure liquids instead of milliliters (ml).\n",
        "\n",
        "    So you need to convert recipe units to your local measuring system!\n",
        "\n",
        "    For example, 8 fluid ounces of milk is {8 * 29.5735:.2f} ml.\n",
        "    And 100ml of water is {100 / 29.5735:.1f} fluid ounces.\n",
        "\"\"\")"
      ],
      "metadata": {
        "colab": {
          "base_uri": "https://localhost:8080/"
        },
        "id": "68EqsPY1pbcl",
        "outputId": "5f534f0e-a87d-4cec-ba3c-4a4666c704cd"
      },
      "execution_count": 1,
      "outputs": [
        {
          "output_type": "stream",
          "name": "stdout",
          "text": [
            "\n",
            "    Most countries use the metric system for recipe measurement, \n",
            "    but American bakers use a different system. For example, they use \n",
            "    fluid ounces to measure liquids instead of milliliters (ml).\n",
            "    \n",
            "    So you need to convert recipe units to your local measuring system!\n",
            "    \n",
            "    For example, 8 fluid ounces of milk is 236.59 ml.\n",
            "    And 100ml of water is 3.4 fluid ounces.\n",
            "\n"
          ]
        }
      ]
    },
    {
      "cell_type": "code",
      "source": [
        "# Modify the code to display one decimal place\n",
        "print(f\"The house was a good size: 1200 square feet, or {1200 * 0.092903:.1f} meters squared!\")"
      ],
      "metadata": {
        "colab": {
          "base_uri": "https://localhost:8080/"
        },
        "id": "aXEp9MqcqeHg",
        "outputId": "506f9647-e0b5-4829-8a46-f166bf6aecd0"
      },
      "execution_count": 23,
      "outputs": [
        {
          "output_type": "stream",
          "name": "stdout",
          "text": [
            "The house was a good size: 1200 square feet, or 111.5 meters squared!\n"
          ]
        }
      ]
    },
    {
      "cell_type": "code",
      "source": [
        "#variables\n",
        "score=45/9"
      ],
      "metadata": {
        "id": "iXaZEPKktAKe"
      },
      "execution_count": 7,
      "outputs": []
    },
    {
      "cell_type": "code",
      "source": [
        "print(f\"Your final score was: {score:.2f}\") # prints 450"
      ],
      "metadata": {
        "colab": {
          "base_uri": "https://localhost:8080/"
        },
        "id": "4Iqr4rYhs9_Z",
        "outputId": "2dc5e896-f1cb-44c3-8ed0-62dbf57ef099"
      },
      "execution_count": 5,
      "outputs": [
        {
          "output_type": "stream",
          "name": "stdout",
          "text": [
            "Your final score was: 5.00\n"
          ]
        }
      ]
    }
  ]
}