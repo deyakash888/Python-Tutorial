{
  "nbformat": 4,
  "nbformat_minor": 0,
  "metadata": {
    "colab": {
      "provenance": [],
      "authorship_tag": "ABX9TyNWnH8S9jYRA2f6jKqxM5a5",
      "include_colab_link": true
    },
    "kernelspec": {
      "name": "python3",
      "display_name": "Python 3"
    },
    "language_info": {
      "name": "python"
    }
  },
  "cells": [
    {
      "cell_type": "markdown",
      "metadata": {
        "id": "view-in-github",
        "colab_type": "text"
      },
      "source": [
        "<a href=\"https://colab.research.google.com/github/deyakash888/Python-Tutorial/blob/main/Intro_to_Python.ipynb\" target=\"_parent\"><img src=\"https://colab.research.google.com/assets/colab-badge.svg\" alt=\"Open In Colab\"/></a>"
      ]
    },
    {
      "cell_type": "code",
      "execution_count": null,
      "metadata": {
        "colab": {
          "base_uri": "https://localhost:8080/"
        },
        "id": "8Md4lFz1c4tb",
        "outputId": "faaf86a5-87e8-4ceb-cdf9-198c82d1475a"
      },
      "outputs": [
        {
          "output_type": "stream",
          "name": "stdout",
          "text": [
            "I will learn AI & ML soon in details.\n"
          ]
        }
      ],
      "source": [
        "print (\"I will learn AI & ML soon in details.\")"
      ]
    },
    {
      "cell_type": "code",
      "source": [
        "#for multiline strings\n",
        "print(\"\"\"My favorite drink\n",
        " is Earl Grey tea.\"\"\")"
      ],
      "metadata": {
        "id": "BbZH_cm1fI3K",
        "outputId": "77d3f2c3-fa1a-49d4-b159-754cdcbf2155",
        "colab": {
          "base_uri": "https://localhost:8080/"
        }
      },
      "execution_count": null,
      "outputs": [
        {
          "output_type": "stream",
          "name": "stdout",
          "text": [
            "My favorite drink\n",
            " is Earl Grey tea.\n"
          ]
        }
      ]
    },
    {
      "cell_type": "code",
      "source": [
        "type(\"\"\"\n",
        "Numbers, text, and truth,\n",
        "Strings, ints, and floats in our code,\n",
        "Data shapes our path\n",
        "\"\"\")"
      ],
      "metadata": {
        "id": "9zTW8l-QfcT4",
        "outputId": "ca6f765d-00f7-42ea-bbd3-6b78ce9624a2",
        "colab": {
          "base_uri": "https://localhost:8080/"
        }
      },
      "execution_count": null,
      "outputs": [
        {
          "output_type": "execute_result",
          "data": {
            "text/plain": [
              "str"
            ]
          },
          "metadata": {},
          "execution_count": 10
        }
      ]
    },
    {
      "cell_type": "code",
      "source": [
        "type(5.5)"
      ],
      "metadata": {
        "id": "ngNDpYdUjJxL",
        "outputId": "40b231e0-b9b4-4d84-8834-58570abebd46",
        "colab": {
          "base_uri": "https://localhost:8080/"
        }
      },
      "execution_count": 13,
      "outputs": [
        {
          "output_type": "execute_result",
          "data": {
            "text/plain": [
              "float"
            ]
          },
          "metadata": {},
          "execution_count": 13
        }
      ]
    }
  ]
}